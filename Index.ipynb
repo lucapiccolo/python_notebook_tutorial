{
 "cells": [
  {
   "cell_type": "markdown",
   "metadata": {},
   "source": [
    "Introduction to Python\n",
    "===\n",
    "Introduction to Python is a resource for students who want to learn Python as their first language, and for teachers who want a free and open curriculum to use with their students."
   ]
  },
  {
   "cell_type": "markdown",
   "metadata": {},
   "source": [
    "## Set Up Your Programming Environment\n",
    "\n",
    "If your computer is not yet set up to run Python programs, you may consider to take a look at the \n",
    "[Programming Environment](00 Programming Environment.ipynb) notebook.\n",
    "\n",
    "Otherwise, feel free to skip ahead!"
   ]
  },
  {
   "cell_type": "markdown",
   "metadata": {},
   "source": [
    "## Start Learning Python\n",
    "\n",
    "If your computer is already set up to run Python programs, you can get started with [Hello World](01 Hello World.ipynb), to test that everything works properly and fine."
   ]
  },
  {
   "cell_type": "markdown",
   "metadata": {},
   "source": [
    "## Contents\n",
    "\n",
    "Please take a look at the [Table of Contents](toc.ipynb) to see a list of the topics covered throughout the notebooks, along with a brief description of each part."
   ]
  },
  {
   "cell_type": "markdown",
   "metadata": {},
   "source": [
    "## Feedback\n",
    "\n",
    "If you have any questions or comments, feel free to get in touch:\n",
    "\n",
    "- **Twitter**: [@leriomaggio](https://twitter.com/leriomaggio)\n",
    "- **Email**: `valeriomaggio at gmail dot com`\n"
   ]
  },
  {
   "cell_type": "markdown",
   "metadata": {},
   "source": [
    "## Contribute\n",
    "\n",
    "If you already know Python and would like to help contribute to the project, please see the project's [GitHub page](https://github.com/leriomaggio/python-in-a-notebook)."
   ]
  }
 ],
 "metadata": {
  "kernelspec": {
   "display_name": "Python 3",
   "language": "python",
   "name": "python3"
  },
  "language_info": {
   "codemirror_mode": {
    "name": "ipython",
    "version": 3
   },
   "file_extension": ".py",
   "mimetype": "text/x-python",
   "name": "python",
   "nbconvert_exporter": "python",
   "pygments_lexer": "ipython3",
   "version": "3.5.1"
  }
 },
 "nbformat": 4,
 "nbformat_minor": 0
}
